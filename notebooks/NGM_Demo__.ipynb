{
 "cells": [
  {
   "cell_type": "code",
   "execution_count": null,
   "id": "e36e8ab1",
   "metadata": {},
   "outputs": [],
   "source": [
    "# Setup assets directory and fetch required images from GitHub\n",
    "!mkdir -p assets\n",
    "!wget -O assets/architecture.png https://raw.githubusercontent.com/StuckInTheNet/neural-graph-memory-Work-In-Progress/main/assets/architecture.png\n",
    "!wget -O assets/dog_caption.jpg https://raw.githubusercontent.com/StuckInTheNet/neural-graph-memory-Work-In-Progress/main/assets/dog_caption.jpg\n",
    "!wget -O assets/audio_sim_text.png https://raw.githubusercontent.com/StuckInTheNet/neural-graph-memory-Work-In-Progress/main/assets/audio_sim_text.png\n",
    "!wget -O assets/city_context.jpg https://raw.githubusercontent.com/StuckInTheNet/neural-graph-memory-Work-In-Progress/main/assets/city_context.jpg\n",
    "!wget -O assets/diagram_analysis.png https://raw.githubusercontent.com/StuckInTheNet/neural-graph-memory-Work-In-Progress/main/assets/diagram_analysis.png\n"
   ]
  },
  {
   "cell_type": "code",
   "execution_count": null,
   "id": "dfee155f",
   "metadata": {},
   "outputs": [],
   "source": [
    "# Setup assets directory and fetch required images from GitHub\n",
    "!mkdir -p assets\n",
    "!wget -O assets/architecture.png https://raw.githubusercontent.com/StuckInTheNet/neural-graph-memory-Work-In-Progress/main/assets/architecture.png\n",
    "!wget -O assets/dog_caption.jpg https://raw.githubusercontent.com/StuckInTheNet/neural-graph-memory-Work-In-Progress/main/assets/dog_caption.jpg\n",
    "!wget -O assets/audio_sim_text.png https://raw.githubusercontent.com/StuckInTheNet/neural-graph-memory-Work-In-Progress/main/assets/audio_sim_text.png\n",
    "!wget -O assets/city_context.jpg https://raw.githubusercontent.com/StuckInTheNet/neural-graph-memory-Work-In-Progress/main/assets/city_context.jpg\n",
    "!wget -O assets/diagram_analysis.png https://raw.githubusercontent.com/StuckInTheNet/neural-graph-memory-Work-In-Progress/main/assets/diagram_analysis.png\n"
   ]
  },
  {
   "cell_type": "markdown",
   "id": "365b10d1",
   "metadata": {},
   "source": [
    "# 🧠 Neural Graph Memory: Full Demo (Colab Ready)\n",
    "This notebook demonstrates:\n",
    "- Text & image memory insertion\n",
    "- Temporal & multimodal graph structure\n",
    "- Associative retrieval\n",
    "- Graph traversal\n",
    "- Persistence (save/load)\n",
    "- Visualization"
   ]
  },
  {
   "cell_type": "code",
   "execution_count": null,
   "id": "d31cdb0c",
   "metadata": {},
   "outputs": [],
   "source": [
    "# Uncomment if needed\n",
    "# !pip install torch torchvision transformers sentence-transformers networkx matplotlib Pillow"
   ]
  },
  {
   "cell_type": "code",
   "execution_count": null,
   "id": "8189a313",
   "metadata": {},
   "outputs": [],
   "source": [
    "import torch\n",
    "import torchvision.transforms as T\n",
    "import torchvision.models as models\n",
    "from PIL import Image\n",
    "import networkx as nx\n",
    "import matplotlib.pyplot as plt\n",
    "from sentence_transformers import SentenceTransformer\n",
    "import requests\n",
    "from io import BytesIO\n",
    "import numpy as np\n",
    "import pickle"
   ]
  },
  {
   "cell_type": "code",
   "execution_count": null,
   "id": "3c5a0ba3",
   "metadata": {},
   "outputs": [],
   "source": [
    "class MemoryNode:\n",
    "    def __init__(self, id, embedding, modality, metadata=None):\n",
    "        self.id = id\n",
    "        self.embedding = embedding\n",
    "        self.modality = modality\n",
    "        self.metadata = metadata or {}\n",
    "\n",
    "class NeuralGraphMemory:\n",
    "    def __init__(self):\n",
    "        self.graph = nx.Graph()\n",
    "        self.text_encoder = SentenceTransformer('all-MiniLM-L6-v2')\n",
    "        self.image_encoder = models.resnet18(pretrained=True)\n",
    "        self.image_encoder.fc = torch.nn.Identity()\n",
    "        self.image_encoder.eval()\n",
    "        self.transform = T.Compose([\n",
    "            T.Resize(256), T.CenterCrop(224),\n",
    "            T.ToTensor(), T.Normalize(mean=[0.485, 0.456, 0.406],\n",
    "                                      std=[0.229, 0.224, 0.225])\n",
    "        ])\n",
    "\n",
    "    def add_text_node(self, text):\n",
    "        embedding = self.text_encoder.encode(text)\n",
    "        return self._add_node(embedding, 'text', {\"text\": text})\n",
    "\n",
    "    def add_image_node(self, img_url):\n",
    "        image = Image.open(BytesIO(requests.get(img_url).content)).convert(\"RGB\")\n",
    "        tensor = self.transform(image).unsqueeze(0)\n",
    "        with torch.no_grad():\n",
    "            embedding = self.image_encoder(tensor).squeeze().numpy()\n",
    "        return self._add_node(embedding, 'image', {\"url\": img_url})\n",
    "\n",
    "    def _add_node(self, embedding, modality, metadata):\n",
    "        node_id = len(self.graph)\n",
    "        node = MemoryNode(node_id, embedding, modality, metadata)\n",
    "        self.graph.add_node(node_id, data=node)\n",
    "        if node_id > 0:\n",
    "            self.graph.add_edge(node_id - 1, node_id, relation=\"temporal\")\n",
    "        return node_id\n",
    "\n",
    "    def retrieve_nearest(self, query, top_k=3):\n",
    "        query_emb = self.text_encoder.encode(query)\n",
    "        similarities = []\n",
    "        for nid, data in self.graph.nodes(data=\"data\"):\n",
    "            sim = np.dot(data.embedding, query_emb) / (\n",
    "                np.linalg.norm(data.embedding) * np.linalg.norm(query_emb))\n",
    "            similarities.append((nid, sim))\n",
    "        similarities.sort(key=lambda x: x[1], reverse=True)\n",
    "        return similarities[:top_k]\n",
    "\n",
    "    def traverse_temporal(self, start_id=0):\n",
    "        return list(nx.dfs_preorder_nodes(self.graph, source=start_id))\n",
    "\n",
    "    def visualize(self):\n",
    "        labels = nx.get_node_attributes(self.graph, \"data\")\n",
    "        pos = nx.spring_layout(self.graph)\n",
    "        plt.figure(figsize=(10, 6))\n",
    "        nx.draw(self.graph, pos, with_labels=True, node_color='lightblue')\n",
    "        node_texts = {k: (v.metadata.get(\"text\") or \"img\")[:15] for k, v in labels.items()}\n",
    "        nx.draw_networkx_labels(self.graph, pos, labels=node_texts, font_size=8)\n",
    "        plt.title(\"🧠 Neural Graph Memory\")\n",
    "        plt.show()\n",
    "\n",
    "    def save(self, path='ngm.pkl'):\n",
    "        with open(path, 'wb') as f:\n",
    "            pickle.dump(self.graph, f)\n",
    "\n",
    "    def load(self, path='ngm.pkl'):\n",
    "        with open(path, 'rb') as f:\n",
    "            self.graph = pickle.load(f)"
   ]
  },
  {
   "cell_type": "markdown",
   "id": "6bf62629",
   "metadata": {},
   "source": [
    "## 🔧 Memory Construction"
   ]
  },
  {
   "cell_type": "markdown",
   "id": "8a1be2b8",
   "metadata": {},
   "source": [
    "### Adding a Visual Memory Node\n",
    "We now demonstrate how an AI agent might ingest a visual memory (e.g., a memory architecture diagram) into the graph memory system using CLIP embeddings."
   ]
  },
  {
   "cell_type": "code",
   "execution_count": null,
   "id": "9150b00c",
   "metadata": {},
   "outputs": [],
   "source": [
    "from PIL import Image\n",
    "import requests\n",
    "from io import BytesIO\n",
    "\n",
    "# Load your architecture image as an example of multimodal input\n",
    "image_url = 'https://raw.githubusercontent.com/StuckInTheNet/neural-graph-memory/main/assets/architecture.png'\n",
    "response = requests.get(image_url)\n",
    "image = Image.open(BytesIO(response.content)).convert('RGB')\n",
    "image.show()"
   ]
  },
  {
   "cell_type": "code",
   "execution_count": null,
   "id": "1f2a675f",
   "metadata": {},
   "outputs": [],
   "source": [
    "ngm.visualize()"
   ]
  },
  {
   "cell_type": "markdown",
   "id": "5ba5052b",
   "metadata": {},
   "source": [
    "## 🔍 Retrieval"
   ]
  },
  {
   "cell_type": "code",
   "execution_count": null,
   "id": "d1c7f94e",
   "metadata": {},
   "outputs": [],
   "source": [
    "query = \"What happened with the dog?\"\n",
    "nearest = ngm.retrieve_nearest(query)\n",
    "print(f\"Query: {query}\\n\\nTop Matches:\")\n",
    "for nid, score in nearest:\n",
    "    node = ngm.graph.nodes[nid][\"data\"]\n",
    "    print(f\" - Node {nid} ({node.modality}): {node.metadata} [Score: {score:.2f}]\")"
   ]
  },
  {
   "cell_type": "markdown",
   "id": "b6e0801c",
   "metadata": {},
   "source": [
    "## 🔄 Temporal Traversal"
   ]
  },
  {
   "cell_type": "code",
   "execution_count": null,
   "id": "8d5305b7",
   "metadata": {},
   "outputs": [],
   "source": [
    "order = ngm.traverse_temporal()\n",
    "print(\"Traversal order:\")\n",
    "for nid in order:\n",
    "    node = ngm.graph.nodes[nid][\"data\"]\n",
    "    print(f\" - Node {nid}: {node.metadata}\")"
   ]
  },
  {
   "cell_type": "markdown",
   "id": "82eaa4cc",
   "metadata": {},
   "source": [
    "## 💾 Persistence"
   ]
  },
  {
   "cell_type": "code",
   "execution_count": null,
   "id": "5ca210aa",
   "metadata": {},
   "outputs": [],
   "source": [
    "ngm.save(\"ngm_demo.pkl\")\n",
    "print(\"✅ Saved memory graph\")"
   ]
  },
  {
   "cell_type": "code",
   "execution_count": null,
   "id": "cc718ee1",
   "metadata": {},
   "outputs": [],
   "source": [
    "ngm2 = NeuralGraphMemory()\n",
    "ngm2.load(\"ngm_demo.pkl\")\n",
    "print(\"✅ Loaded memory graph with\", len(ngm2.graph), \"nodes\")"
   ]
  },
  {
   "cell_type": "markdown",
   "id": "0f0c7207",
   "metadata": {},
   "source": [
    "## 🧠 Multimodal Memory Demonstrations\n",
    "This section simulates how an AI agent stores, embeds, and retrieves rich multimodal memories.\n",
    "Each example below demonstrates a different modality or modality combination processed into graph memory."
   ]
  },
  {
   "cell_type": "markdown",
   "id": "458f0662",
   "metadata": {},
   "source": [
    "### 🐕 Image + Caption"
   ]
  },
  {
   "cell_type": "code",
   "execution_count": null,
   "id": "4acd1aec",
   "metadata": {},
   "outputs": [],
   "source": [
    "from PIL import Image\n",
    "import requests\n",
    "from io import BytesIO\n",
    "\n",
    "image_url = 'https://upload.wikimedia.org/wikipedia/commons/9/91/Golden_Retriever_Carlos_%2810581910556%29.jpg'\n",
    "response = requests.get(image_url)\n",
    "image = Image.open(BytesIO(response.content)).convert('RGB')\n",
    "image.show()\n",
    "\n",
    "caption = 'Saw a golden retriever chasing a ball in Central Park.'\n",
    "print(f\"Caption: {caption}\")"
   ]
  },
  {
   "cell_type": "markdown",
   "id": "5a5d8ab5",
   "metadata": {},
   "source": [
    "### 🎙️ Text + Audio (Simulated Voice Note)"
   ]
  },
  {
   "cell_type": "code",
   "execution_count": null,
   "id": "caa02b69",
   "metadata": {},
   "outputs": [],
   "source": [
    "# Simulated transcription of a voice note\n",
    "voice_note = 'Remember to review the memory architecture notes after today’s meeting.'\n",
    "print(f\"Transcribed voice note: {voice_note}\")"
   ]
  },
  {
   "cell_type": "markdown",
   "id": "16a2264a",
   "metadata": {},
   "source": [
    "### 🌆 Image + Timestamp + Context"
   ]
  },
  {
   "cell_type": "code",
   "execution_count": null,
   "id": "fcd3d11e",
   "metadata": {},
   "outputs": [],
   "source": [
    "image_url = 'https://upload.wikimedia.org/wikipedia/commons/6/63/Times_Square%2C_New_York_City_%28HDR%29.jpg'\n",
    "response = requests.get(image_url)\n",
    "image = Image.open(BytesIO(response.content)).convert('RGB')\n",
    "image.show()\n",
    "\n",
    "contextual_note = 'Visited Times Square, lots of people, bright screens — 7:45pm, Jan 15'\n",
    "print(f\"Note: {contextual_note}\")"
   ]
  },
  {
   "cell_type": "markdown",
   "id": "45ea52e8",
   "metadata": {},
   "source": [
    "### 📊 Diagram + Interpretation"
   ]
  },
  {
   "cell_type": "code",
   "execution_count": null,
   "id": "287416d2",
   "metadata": {},
   "outputs": [],
   "source": [
    "image_url = 'https://upload.wikimedia.org/wikipedia/commons/thumb/1/10/Transformer.png/600px-Transformer.png'\n",
    "response = requests.get(image_url)\n",
    "image = Image.open(BytesIO(response.content)).convert('RGB')\n",
    "image.show()\n",
    "\n",
    "interpretation = 'This shows the self-attention mechanism used in GPT-based models.'\n",
    "print(f\"Interpretation: {interpretation}\")"
   ]
  }
 ],
 "metadata": {},
 "nbformat": 4,
 "nbformat_minor": 5
}
