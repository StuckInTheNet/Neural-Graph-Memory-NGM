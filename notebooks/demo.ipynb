{
  "cells": [
    {
      "cell_type": "markdown",
      "metadata": {},
      "source": [
        "# \ud83e\udde0 Neural Graph Memory Demo\n",
        "This notebook demonstrates how to:\n",
        "- Build the memory graph\n",
        "- Run recall queries\n",
        "- Visualize the graph\n"
      ]
    },
    {
      "cell_type": "code",
      "execution_count": null,
      "metadata": {},
      "outputs": [],
      "source": [
        "# Install dependencies (uncomment if running on Colab)\n",
        "# !pip install sentence-transformers networkx matplotlib\n"
      ]
    },
    {
      "cell_type": "code",
      "execution_count": null,
      "metadata": {},
      "outputs": [],
      "source": [
        "from sentence_transformers import SentenceTransformer\n",
        "from memory_graph import build_memory_graph, recall_memory\n",
        "import networkx as nx\n",
        "import matplotlib.pyplot as plt\n"
      ]
    },
    {
      "cell_type": "code",
      "execution_count": null,
      "metadata": {},
      "outputs": [],
      "source": [
        "# Initialize model and build graph\n",
        "model = SentenceTransformer('all-MiniLM-L6-v2')\n",
        "G = build_memory_graph(model)\n"
      ]
    },
    {
      "cell_type": "code",
      "execution_count": null,
      "metadata": {},
      "outputs": [],
      "source": [
        "# Try a recall query\n",
        "cue = 'coffee smell'\n",
        "result = recall_memory(G, cue, model)\n",
        "print(f\"Cue: {cue} \u2192 Recalled context: {result['context']}\")"
      ]
    },
    {
      "cell_type": "code",
      "execution_count": null,
      "metadata": {},
      "outputs": [],
      "source": [
        "# Visualize the graph\n",
        "labels = {n: f\"{d['content']}\\n[{d['context']}]\" for n, d in G.nodes(data=True)}\n",
        "edge_labels = nx.get_edge_attributes(G, 'relation')\n",
        "pos = nx.spring_layout(G, seed=42)\n",
        "plt.figure(figsize=(10, 6))\n",
        "nx.draw(G, pos, with_labels=True, labels=labels, node_color='skyblue', node_size=2000, font_size=9)\n",
        "nx.draw_networkx_edge_labels(G, pos, edge_labels=edge_labels, font_color='red')\n",
        "plt.title(\"Neural Graph Memory\")\n",
        "plt.axis('off')\n",
        "plt.tight_layout()\n",
        "plt.show()"
      ]
    }
  ],
  "metadata": {
    "kernelspec": {
      "display_name": "Python 3",
      "language": "python",
      "name": "python3"
    },
    "language_info": {
      "name": "python",
      "version": "3.8"
    }
  },
  "nbformat": 4,
  "nbformat_minor": 5
}