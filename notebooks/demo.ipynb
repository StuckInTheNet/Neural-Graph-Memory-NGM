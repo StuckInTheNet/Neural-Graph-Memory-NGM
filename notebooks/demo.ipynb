{
  "cells": [
    {
      "cell_type": "markdown",
      "metadata": {},
      "source": [
        "# \ud83e\udde0 Neural Graph Memory Demo\n",
        "\n",
        "This notebook walks through how to build a biologically inspired memory system for AI using graph-based storage and recall. We'll simulate memory events, encode them, and test how well the system retrieves them."
      ]
    },
    {
      "cell_type": "markdown",
      "metadata": {},
      "source": [
        "## Step 1: Install dependencies\n",
        "\n",
        "If you're running this in Colab or a fresh environment, uncomment the line below."
      ]
    },
    {
      "cell_type": "code",
      "execution_count": null,
      "metadata": {},
      "outputs": [],
      "source": [
        "# !pip install sentence-transformers networkx matplotlib pandas"
      ]
    },
    {
      "cell_type": "markdown",
      "metadata": {},
      "source": [
        "## Step 2: Import modules and setup model"
      ]
    },
    {
      "cell_type": "code",
      "execution_count": null,
      "metadata": {},
      "outputs": [],
      "source": [
        "from sentence_transformers import SentenceTransformer\n",
        "from memory_graph import build_memory_graph, recall_memory\n",
        "import networkx as nx\n",
        "import matplotlib.pyplot as plt\n",
        "import pandas as pd"
      ]
    },
    {
      "cell_type": "markdown",
      "metadata": {},
      "source": [
        "## Step 3: Build the memory graph\n",
        "\n",
        "Each node is a sensory event tied to a context (e.g., \"coffee smell\" \u2192 \"morning kitchen scene\")."
      ]
    },
    {
      "cell_type": "code",
      "execution_count": null,
      "metadata": {},
      "outputs": [],
      "source": [
        "model = SentenceTransformer('all-MiniLM-L6-v2')\n",
        "G = build_memory_graph(model)\n",
        "print(f\"Graph has {len(G.nodes)} nodes and {len(G.edges)} edges.\")"
      ]
    },
    {
      "cell_type": "markdown",
      "metadata": {},
      "source": [
        "## Step 4: Run a recall query\n",
        "\n",
        "We'll input a sensory cue and test whether the system recalls the correct context."
      ]
    },
    {
      "cell_type": "code",
      "execution_count": null,
      "metadata": {},
      "outputs": [],
      "source": [
        "cue = \"coffee smell\"\n",
        "result = recall_memory(G, cue, model)\n",
        "pd.DataFrame([{\"Cue\": cue, \"Recalled Context\": result['context']}])"
      ]
    },
    {
      "cell_type": "markdown",
      "metadata": {},
      "source": [
        "## Step 5: Visualize the graph"
      ]
    },
    {
      "cell_type": "code",
      "execution_count": null,
      "metadata": {},
      "outputs": [],
      "source": [
        "labels = {n: f\"{d['content']}\\n[{d['context']}]\" for n, d in G.nodes(data=True)}\n",
        "edge_labels = nx.get_edge_attributes(G, 'relation')\n",
        "pos = nx.spring_layout(G, seed=42)\n",
        "plt.figure(figsize=(10, 6))\n",
        "nx.draw(G, pos, with_labels=True, labels=labels, node_color='skyblue', node_size=2000, font_size=9)\n",
        "nx.draw_networkx_edge_labels(G, pos, edge_labels=edge_labels, font_color='red')\n",
        "plt.title(\"Neural Graph Memory\")\n",
        "plt.axis('off')\n",
        "plt.tight_layout()\n",
        "plt.show()"
      ]
    },
    {
      "cell_type": "markdown",
      "metadata": {},
      "source": [
        "## Summary\n",
        "\n",
        "- Built a graph based memory system\n",
        "- Encoded multi sensory nodes tied to context\n",
        "- Retrieved memories using semantic cues\n",
        "- Visualized the structure of memory\n",
        "\n",
        "**Next Steps:**\n",
        "- Add real sensory inputs like CLIP or Whisper\n",
        "- Tie into agent based LLMs for long term memory use\n",
        "- Improve edge weighting and traversal strategies"
      ]
    }
  ],
  "metadata": {
    "kernelspec": {
      "display_name": "Python 3",
      "language": "python",
      "name": "python3"
    },
    "language_info": {
      "name": "python",
      "version": "3.8"
    }
  },
  "nbformat": 4,
  "nbformat_minor": 5
}
